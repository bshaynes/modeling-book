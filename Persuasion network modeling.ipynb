{
 "cells": [
  {
   "cell_type": "code",
   "execution_count": 1,
   "id": "b1236e86-06e1-411e-9ebd-7cbf2d709824",
   "metadata": {},
   "outputs": [],
   "source": [
    "import random\n",
    "import numpy as np\n",
    "import pandas as pd"
   ]
  },
  {
   "cell_type": "markdown",
   "id": "7df1d5e6-1644-45fc-ae53-904a53780a61",
   "metadata": {},
   "source": [
    "This implementation does the following to initialize a network:\n",
    "1. Generates N nodes with some belief values between -bmax and bmax\n",
    "2. Gives each node some amount of persuasion power between 0 and pmax\n",
    "3. Connects these nodes to each other, at various rates"
   ]
  },
  {
   "cell_type": "markdown",
   "id": "8e63b34d-f259-4008-9407-c7d305b111d3",
   "metadata": {},
   "source": [
    "The number of positive-belief and negative-belief nodes is decided by some ratio.\n",
    "\n",
    "We randomly generate & concatenate two arrays, one of positive integer values and one of negative integer values, with their lengths equivalent to the ratios. \n",
    "\n",
    "Then, they are shuffled.\n",
    "\n",
    "When we define how nodes are connected, it is helpful for the first node to always be positive. Because the actual direction of belief is arbitrary, we flip the sign of all nodes if the first node is initialized as negative.\n",
    "\n",
    "Lastly, we reshape the array of belief values into a nxn square matrix, where n*n = N."
   ]
  },
  {
   "cell_type": "code",
   "execution_count": 2,
   "id": "6c4d36ec-72a6-4098-8589-fb30e9f38ea6",
   "metadata": {},
   "outputs": [],
   "source": [
    "def generateBelief(N, bmax, ratio):\n",
    "    \n",
    "    # Create skeptics and alarmists based on ratio (% that are skeptics)\n",
    "    skeptics = np.array(random.choices(range(1, bmax), k = round(N * ratio)))\n",
    "    alarmists = np.negative(random.choices(range(1, bmax), k = round(N * (1 - ratio))))\n",
    "\n",
    "    d = np.concatenate((skeptics, alarmists))\n",
    "    \n",
    "    \n",
    "    # Shuffle the nodes, so they are randomly distributed\n",
    "    np.random.shuffle(d)\n",
    "\n",
    "    # If the first node ends up being -1, flip all node beliefs\n",
    "    # This is just to define our belief as:\n",
    "    # \"those who agree with the first node\" (skeptic) vs \"those who disagree\" (alarmist)\n",
    "    if d[0] < 0:\n",
    "        \n",
    "        d = np.negative(d)\n",
    "    \n",
    "    else:\n",
    "        \n",
    "        d = np.array(d)\n",
    "\n",
    "    # We like to think of the nodes as a matrix, so we turn it into a square\n",
    "    # If N is not a square number, this may become a problem.\n",
    "    d = np.reshape(d.astype(float), [int(N**(1/2)), int(N**(1/2))])\n",
    "    \n",
    "    return d"
   ]
  },
  {
   "cell_type": "code",
   "execution_count": 3,
   "id": "50430b03-2ce8-4519-a054-d67bec9ced46",
   "metadata": {},
   "outputs": [],
   "source": [
    "d = generateBelief(100, 6, .50)"
   ]
  },
  {
   "cell_type": "code",
   "execution_count": 4,
   "id": "a34f401f-6643-4ba6-bbd7-4e4c716aee4c",
   "metadata": {},
   "outputs": [
    {
     "name": "stdout",
     "output_type": "stream",
     "text": [
      "[[ 5.  2.  2. -2. -4. -4. -5.  2.  2. -1.]\n",
      " [-5.  1.  5. -5. -3. -3. -3. -3. -5. -3.]\n",
      " [ 3.  4.  5. -3.  2. -2.  1.  5. -4.  4.]\n",
      " [ 3. -5. -3.  3.  5.  1. -1.  3. -2. -2.]\n",
      " [-1.  2. -5.  3. -4. -4. -3. -5.  1. -5.]\n",
      " [ 1. -1. -3. -5. -2. -3.  1. -1.  5.  1.]\n",
      " [ 4.  5.  2. -3.  2. -3. -3. -1. -3.  3.]\n",
      " [-4.  3. -4.  3. -1.  1. -3.  2.  3.  1.]\n",
      " [-1.  5.  1.  1.  1.  2. -4.  5.  2.  2.]\n",
      " [ 2.  1. -3.  4. -1. -1. -5. -3.  1.  3.]]\n"
     ]
    }
   ],
   "source": [
    "print(d)"
   ]
  },
  {
   "cell_type": "markdown",
   "id": "089c1713-de05-4ede-b8e1-dd2bf6bb22a6",
   "metadata": {},
   "source": [
    "Similar to belief, we need to assign a persuation power to each node.\n",
    "\n",
    "However, all nodes (regardless of belief) have an integer persuasion value that is between 0 and some maximum, pmax.\n",
    "\n",
    "This is also reshapes to an nxn matrix."
   ]
  },
  {
   "cell_type": "code",
   "execution_count": 72,
   "id": "f47f59f6-4048-4869-bd10-87a7c2af9af3",
   "metadata": {},
   "outputs": [],
   "source": [
    "def generatePersuasion(N, pmax):\n",
    "    \n",
    "    # Generates a random string of persuasion values between 0 and pmax\n",
    "    p = random.choices(range(0, pmax + 1), k = N)\n",
    "    \n",
    "    # We like to think of the nodes as a matrix, so we turn it into a square\n",
    "    # If N is not a square number, this may become a problem.\n",
    "    p = np.reshape(np.array(p, dtype=float), [int(N**(1/2)), int(N**(1/2))])\n",
    "    \n",
    "    return p"
   ]
  },
  {
   "cell_type": "code",
   "execution_count": 73,
   "id": "f731bb34-cf03-4574-bc06-44191a3c9902",
   "metadata": {},
   "outputs": [],
   "source": [
    "p = generatePersuasion(100, 6)"
   ]
  },
  {
   "cell_type": "code",
   "execution_count": 74,
   "id": "745b83c3-a589-4484-8809-12d08d21d181",
   "metadata": {},
   "outputs": [
    {
     "name": "stdout",
     "output_type": "stream",
     "text": [
      "[[5. 0. 2. 0. 1. 3. 3. 4. 0. 1.]\n",
      " [2. 6. 6. 0. 2. 1. 2. 6. 2. 0.]\n",
      " [3. 2. 0. 1. 0. 1. 5. 0. 0. 4.]\n",
      " [0. 2. 4. 2. 0. 3. 6. 0. 4. 3.]\n",
      " [6. 3. 5. 0. 2. 1. 6. 1. 0. 4.]\n",
      " [5. 4. 1. 1. 5. 3. 0. 3. 0. 6.]\n",
      " [5. 2. 4. 0. 3. 3. 3. 0. 2. 4.]\n",
      " [6. 1. 3. 2. 0. 0. 6. 6. 4. 2.]\n",
      " [6. 5. 2. 1. 1. 6. 3. 6. 5. 0.]\n",
      " [2. 0. 3. 3. 4. 0. 5. 1. 0. 2.]]\n"
     ]
    }
   ],
   "source": [
    "print(p)"
   ]
  },
  {
   "cell_type": "markdown",
   "id": "dc430e18-9ef5-49cb-9eba-b07930a0bf6e",
   "metadata": {},
   "source": [
    "Finally, we create the connection matrix.\n",
    "\n",
    "The connection matrix is a NxN matrix, where the element at mxn corresponds to whether node m and node n are connected to each other.\n",
    "1. If the element (m, n) = 1, then m and n are connected and have the same sign\n",
    "2. If the element (m, n) = -1, then m and n are connected but have opposite signs\n",
    "3. If the element (m, n) = 0, then m and n are not connected\n",
    "4. If m = n, then (m, n) = 1 (nodes are connected in agreement to themselves)\n",
    "\n",
    "We start by creating a NxN identity matrix, corresponding to the belief matrix. This is our connection matrix.\n",
    "\n",
    "We first assume that all nodes in the network are connected (ie. the network is complete), and set values in the connection matrix to 1 or -1 (as appropriate), depending on their belief values.\n",
    "\n",
    "In the edge case where belief is 0, we treat it as positive. No nodes are initialized with 0 belief, though it is theoretically possible (but unlikely) to have 0 belief in some models.\n",
    "\n",
    "We do not actually assume that networks are fully connected. To create a partially-unconnected network, we choose random connections (elements) in the connection matrix and \"break\" them (set them to zero).\n",
    "\n",
    "If we \"break\" the mxn element, we also break the nxm element. We break connections (edges) at a rate arate for positive connections and erate for negative connections.\n",
    "\n",
    "In the case that we wish to preserve which connections are broken, we can pass in a variable old_breaks. Instead of randomly breaking connections, these connections will be broken instead."
   ]
  },
  {
   "cell_type": "code",
   "execution_count": 8,
   "id": "ab4ead99-7687-4907-85b2-cfa99247f08a",
   "metadata": {},
   "outputs": [],
   "source": [
    "def computeC(d, old_breaks, arate, erate):\n",
    "    \n",
    "    \n",
    "    C1 = np.eye(d.size) # create the initial identity matrix of connections\n",
    "                       # based on provided persuasion strength values\n",
    "    \n",
    "    disp = d.flatten()\n",
    "    \n",
    "    # This basically makes it so the sign of 0 is 1, instead of 0\n",
    "    \n",
    "    C1[0] = np.sign(disp) + (disp == 0)\n",
    "    C1[:, 0] = np.sign(disp) + (disp == 0)\n",
    "        \n",
    "    for i in range(1, d.size):\n",
    "        \n",
    "        for k in range(1, d.size):\n",
    "\n",
    "            C1[i, k] = np.sign(1 + (2 * np.sign(disp[i]) * np.sign(disp[k])))\n",
    "            #C1[i, k] = 1 + ((disp[i] == 0) * (disp[k] == 0)) - (2 * abs((disp[i] == 0) * (disp[k] == 0)))\n",
    "            \n",
    "            #C1[i, k] = (np.sign(disp[i]) + (disp[i] == 0)) * (np.sign(disp[k]) + (disp[k] == 0))\n",
    "    \n",
    "    # If desired connections are being fed into the function, don't bother generating random ones\n",
    "    if len(old_breaks) > 0:\n",
    "        \n",
    "        breaks = old_breaks\n",
    "    \n",
    "    # If no desired connections specified, break connections according to the arate and erate\n",
    "    else:\n",
    "        \n",
    "        # Indices of elements in the upper triangle, minus the diagonal\n",
    "        \n",
    "        utnd = np.triu_indices_from(C1, k=1)\n",
    "        \n",
    "        # Indices of elements that are in agreement (allies)\n",
    "        \n",
    "        allies = np.where(C1 == 1)\n",
    "        \n",
    "        # Indices of elements that are allies and in the upper triangle\n",
    "        \n",
    "        upper_allies = set(zip(*utnd)) & set(zip(*allies))\n",
    "        \n",
    "        # Indices of elements that are enemies and in the upper triangle\n",
    "        \n",
    "        enemies = np.where(C1 == -1)\n",
    "        \n",
    "        upper_enemies = set(zip(*utnd)) & set(zip(*enemies))\n",
    "        \n",
    "        # Randomly select int(len(allies) * (1 - arate)) to break\n",
    "    \n",
    "        ally_breaks = random.sample(list(upper_allies), round(len(upper_allies) * (1 - arate)))\n",
    "        \n",
    "        enemy_breaks = random.sample(list(upper_enemies), round(len(upper_enemies) * (1 - erate)))\n",
    "\n",
    "        breaks = ally_breaks + enemy_breaks\n",
    "    \n",
    "    for i in breaks:\n",
    "        \n",
    "        C1[i[0], i[1]] = 0\n",
    "        C1[i[1], i[0]] = 0\n",
    "    \n",
    "    return C1"
   ]
  },
  {
   "cell_type": "code",
   "execution_count": 9,
   "id": "fbdecf9c-c29f-47d4-99da-63adaaa1648c",
   "metadata": {},
   "outputs": [],
   "source": [
    "C = computeC(d, [], .3, .3)"
   ]
  },
  {
   "cell_type": "code",
   "execution_count": 10,
   "id": "12f8a78a-e967-4676-bc70-98f3aa3acf5d",
   "metadata": {},
   "outputs": [
    {
     "name": "stdout",
     "output_type": "stream",
     "text": [
      "[[ 1.  0.  0. ...  0.  1.  1.]\n",
      " [ 0.  1.  0. ... -1.  0.  0.]\n",
      " [ 0.  0.  1. ...  0.  1.  0.]\n",
      " ...\n",
      " [ 0. -1.  0. ...  1.  0.  0.]\n",
      " [ 1.  0.  1. ...  0.  1.  0.]\n",
      " [ 1.  0.  0. ...  0.  0.  1.]]\n"
     ]
    }
   ],
   "source": [
    "print(C)"
   ]
  },
  {
   "cell_type": "markdown",
   "id": "8e203add-9d32-4e03-8c42-d18d803e577c",
   "metadata": {},
   "source": [
    "Next, we define our models. The two models below do the following:\n",
    "\n",
    "1. Model 0: Each node divides its persuasion power by the number of nodes connected to it (except itself), then \"sends\" that persuasion value to those nodes. The value is added to their belief.\n",
    "2. Model 1: Each node divides its persuasion power by the number of enemy (opposite sign) nodes connected to it, then \"sends\" that persuasion value to those nodes. The value is added to their belief.\n",
    "\n",
    "In both cases, each node acts according to how the network initialized, not their \"running total\" belief.\n",
    "\n",
    "For example, if nodes 0 and 1 are positive and node 2 is negative, node 0 will send persuasion to node 2. If this flips node 2 from negative to positive, node 1 will not \"know\" this and will also send persuasion to node 2. "
   ]
  },
  {
   "cell_type": "markdown",
   "id": "22cad233-3a81-49f3-b393-1222e686a0b0",
   "metadata": {},
   "source": [
    "Model 0, in detail:\n",
    "\n",
    "1. Accept the matrices of belief, persuasion values, and connections. We also focus on a node n.\n",
    "2. Create copies of the original persuasion & belief matrices. This way, we can keep the original beliefs and the current running total of beliefs separate.\n",
    "3. Look at the number of connections to our current node. If there are none, we immediately stop.\n",
    "4. Calculate how much persuasion is going to be sent. In this case, we divide the persuasion of our current node n by the connections to node n. The number of connections is equal to the sum of the nth row of the connection matrix, minus one (the connection to itself).\n",
    "5. The persuasion sent should be in the direction of node n's belief, so we multiply the value from the previous step by the sign of node n's belief.\n",
    "6. We iterate over each connection to node n, adding our persuasion increment (\"flow\") to each of those connected nodes. We also subtract that increment from node n's available persuasion.\n",
    "7. Finally, we pass the new belief matrix back into the function that generates/updates our connection matrix. This updates where connections have become friendly or adversarial."
   ]
  },
  {
   "cell_type": "code",
   "execution_count": 19,
   "id": "bb08139d-fbd2-4071-9d9a-50aa46e93c85",
   "metadata": {},
   "outputs": [],
   "source": [
    "def model0(C, d, p, n):\n",
    "\n",
    "    connections = (C[n] != 0).sum() - 1 # Obtain the number of connections\n",
    "                                        # made to the nth node        \n",
    "                                        \n",
    "    #print('There are', connections, 'nodes connected to prime node', n)\n",
    "                                        \n",
    "    # Python lists are mutable, so we need to make copies to avoid changing original lists\n",
    "    \n",
    "    d1 = d.copy()\n",
    "    p1 = p.copy()\n",
    "                                        \n",
    "    # If there are no connections to the prime node n, abort\n",
    "    \n",
    "    if connections == 0:\n",
    "        \n",
    "        #print('There are no connections to this node!')\n",
    "        \n",
    "        return C, d, p\n",
    "    \n",
    "    # Calculate how much persuasion will be sent to connections\n",
    "\n",
    "    flow = np.sign(d1.flat[n]) * (p1.flat[n] / connections) # Per Model 0, divide \n",
    "                                 # the persuasion power by the # of connections\n",
    "                                 # to the persuader. Multiply by the sign (so, flow gets negative values if neg opinion)\n",
    "                                 \n",
    "    #print('Our prime node has', p1.flat[n], 'persuasion to send. It will give', flow, 'to each node.')\n",
    "    \n",
    "    # For every node, if there is a connection to the prime node BUT\n",
    "    # that node isn't the prime node itself, send flow amount to that node\n",
    "    # and expend it from the prime node's persuasion\n",
    "    \n",
    "    for i in range(len(C)):\n",
    "        \n",
    "        if i != n and C[n, i] != 0:\n",
    "            \n",
    "            #print('Prime node', n, 'sending', flow, 'to node', i, 'which has', d1.flat[i], 'belief.')\n",
    "\n",
    "            d1.flat[i] += flow\n",
    "            p1.flat[n] -= flow\n",
    "            \n",
    "            #print('Node', i, 'now has', d1.flat[i], 'belief.')\n",
    "\n",
    "\n",
    "\n",
    "    # Recalculate C depending on changes to d (ie. if node belief is flipped)\n",
    "            \n",
    "    C1 = computeC(d1, np.transpose(np.where(C == 0)), 0, 0)\n",
    "    \n",
    "\n",
    "        \n",
    "    return C1, d1, p1"
   ]
  },
  {
   "cell_type": "markdown",
   "id": "d323ad7c-a212-42e5-b158-ca441be40ee8",
   "metadata": {},
   "source": [
    "The function runmodel implements Model 0 or Model 1 over a course of runs. It also initializes the network using N (number of nodes) and ratio (number of positive compared to negative nodes).\n",
    "\n",
    "It creates a copy of the belief matrix called grand_d. This is the running total of belief, which is kept separate from the initialized belief values because those initialized values is what the nodes base their decisions on."
   ]
  },
  {
   "cell_type": "code",
   "execution_count": 4,
   "id": "e7427c07-b683-48bd-bd7a-398eadd9dece",
   "metadata": {},
   "outputs": [],
   "source": [
    "def runmodel(model, runs, N, ratio):\n",
    "\n",
    "    total_consensus = 0\n",
    "    \n",
    "    for j in range(runs):\n",
    "    \n",
    "        d = generateBelief(N, 6, ratio)\n",
    "        C = computeC(d, [], .3, .3)\n",
    "        p = generatePersuasion(N, 6)\n",
    "        \n",
    "        grand_d = d.copy() #np.zeros(np.shape(d))\n",
    "        \n",
    "        for i in range(N):\n",
    "\n",
    "            if model == 0:\n",
    "\n",
    "                C1, d1, p1 = model0(C, d, p, i)\n",
    "\n",
    "            elif model == 1:\n",
    "\n",
    "                C1, d1, p1 = model1(C, d, p, i)\n",
    "            \n",
    "            # d1 - d is the change between the result of this node's action and the original state\n",
    "            \n",
    "            grand_d = grand_d + d1 - d\n",
    "            \n",
    "            #print(len(grand_d[grand_d > 0]))\n",
    "            \n",
    "        \n",
    "        consensus = 1 - (len(grand_d[grand_d > 0]) / N)\n",
    "        \n",
    "        print('Consensus ended up at', max(consensus, 1 - consensus), 'for run', j)\n",
    "\n",
    "        total_consensus += max(consensus, 1 - consensus)\n",
    "\n",
    "    avg_consensus = total_consensus / runs\n",
    "\n",
    "    print('Average consensus for model', model, 'over', runs, 'runs is', avg_consensus)\n",
    "\n",
    "    return max(consensus, 1 - consensus), avg_consensus"
   ]
  },
  {
   "cell_type": "code",
   "execution_count": 46,
   "id": "6d075717-b1b2-4949-981e-33cfbad691b6",
   "metadata": {},
   "outputs": [
    {
     "name": "stdout",
     "output_type": "stream",
     "text": [
      "Consensus ended up at 0.5 for run 0\n",
      "Consensus ended up at 0.5 for run 1\n",
      "Consensus ended up at 0.51 for run 2\n",
      "Consensus ended up at 0.51 for run 3\n",
      "Consensus ended up at 0.51 for run 4\n",
      "Consensus ended up at 0.51 for run 5\n",
      "Consensus ended up at 0.5 for run 6\n",
      "Consensus ended up at 0.51 for run 7\n",
      "Consensus ended up at 0.51 for run 8\n",
      "Consensus ended up at 0.5 for run 9\n",
      "Average consensus for model 0 over 10 runs is 0.506\n"
     ]
    }
   ],
   "source": [
    "consensus, mean = runmodel(0, 10, 100, .5)"
   ]
  },
  {
   "cell_type": "markdown",
   "id": "014a6868-1cd7-4652-919f-7d7bcb538094",
   "metadata": {},
   "source": [
    "Model 0, in detail:\n",
    "\n",
    "1. Accept the matrices of belief, persuasion values, and connections. We also focus on a node n.\n",
    "2. Create copies of the original persuasion & belief matrices. This way, we can keep the original beliefs and the current running total of beliefs separate.\n",
    "3. Look at the number of connections to our current node. If there are none, we immediately stop.\n",
    "4. Calculate how much persuasion is going to be sent. In this case, we divide the persuasion of our current node n by the number of adversarial (-1) connections to node n.\n",
    "5. The persuasion sent should be in the direction of node n's belief, so we multiply the value from the previous step by the sign of node n's belief.\n",
    "6. We iterate over each connection to node n, adding our persuasion increment (\"flow\") to each of those adversarial connected nodes. We also subtract that increment from node n's available persuasion.\n",
    "7. Finally, we pass the new belief matrix back into the function that generates/updates our connection matrix. This updates where connections have become friendly or adversarial."
   ]
  },
  {
   "cell_type": "code",
   "execution_count": 2,
   "id": "780f2d87-52bb-47ba-adfc-d3fa5a5bc227",
   "metadata": {},
   "outputs": [],
   "source": [
    "def model1(C, d, p, n):\n",
    "\n",
    "    #connections = (C[n] == -1) # Obtain the number of disagree connections\n",
    "                                 # made to the nth node    \n",
    "\n",
    "    connections = (C[n] == -1)[np.where(d.flat != 0)].sum() # Obtain the number of disagree connections\n",
    "                                     # made to the nth node\n",
    "                      # for above: if it's a disagreement where the corresponding d node isn't a 0\n",
    "                      \n",
    "    # Python lists are mutable, so we need to make copies to avoid changing original lists\n",
    "    \n",
    "    d1 = d.copy()\n",
    "    p1 = p.copy()         \n",
    "                      \n",
    "    # If there are no non-zero neighbors, just stop\n",
    "    \n",
    "    if connections == 0:\n",
    "        \n",
    "        return C, d, p\n",
    "\n",
    "    flow = np.sign(d1.flat[n]) * (p1.flat[n] / connections) # Per Model 1, divide \n",
    "                                 # the persuasion power by the # of connections\n",
    "                                 # to the persuader with opposite belief.\n",
    "    #print('flow is', flow, 'from node', n)\n",
    "\n",
    "    \n",
    "    for i in range(len(C)):\n",
    "        \n",
    "        # If the node I'm connected to isn't me, is an adversarial connection, and isn't at 0 belief... flow to it\n",
    "        if i != n and C[n, i] == -1 and d1.flat[i] != 0:\n",
    "            \n",
    "            d1.flat[i] += flow\n",
    "            p1.flat[n] -= flow\n",
    "            \n",
    "\n",
    "            \n",
    "    C1 = computeC(d1, np.transpose(np.where(C == 0)), 0, 0)\n",
    "        \n",
    "    return C1, d1, p1\n"
   ]
  },
  {
   "cell_type": "code",
   "execution_count": 5,
   "id": "c87f2e34-89a3-4630-8357-cb94a6ac01cc",
   "metadata": {
    "scrolled": true
   },
   "outputs": [
    {
     "ename": "NameError",
     "evalue": "name 'generateBelief' is not defined",
     "output_type": "error",
     "traceback": [
      "\u001b[1;31m---------------------------------------------------------------------------\u001b[0m",
      "\u001b[1;31mNameError\u001b[0m                                 Traceback (most recent call last)",
      "Cell \u001b[1;32mIn[5], line 1\u001b[0m\n\u001b[1;32m----> 1\u001b[0m consensus, mean \u001b[38;5;241m=\u001b[39m runmodel(\u001b[38;5;241m1\u001b[39m, \u001b[38;5;241m1\u001b[39m, \u001b[38;5;241m100\u001b[39m, \u001b[38;5;241m.5\u001b[39m)\n",
      "Cell \u001b[1;32mIn[4], line 7\u001b[0m, in \u001b[0;36mrunmodel\u001b[1;34m(model, runs, N, ratio)\u001b[0m\n\u001b[0;32m      3\u001b[0m total_consensus \u001b[38;5;241m=\u001b[39m \u001b[38;5;241m0\u001b[39m\n\u001b[0;32m      5\u001b[0m \u001b[38;5;28;01mfor\u001b[39;00m j \u001b[38;5;129;01min\u001b[39;00m \u001b[38;5;28mrange\u001b[39m(runs):\n\u001b[1;32m----> 7\u001b[0m     d \u001b[38;5;241m=\u001b[39m generateBelief(N, \u001b[38;5;241m6\u001b[39m, ratio)\n\u001b[0;32m      8\u001b[0m     C \u001b[38;5;241m=\u001b[39m computeC(d, [], \u001b[38;5;241m.3\u001b[39m, \u001b[38;5;241m.3\u001b[39m)\n\u001b[0;32m      9\u001b[0m     p \u001b[38;5;241m=\u001b[39m generatePersuasion(N, \u001b[38;5;241m6\u001b[39m)\n",
      "\u001b[1;31mNameError\u001b[0m: name 'generateBelief' is not defined"
     ]
    }
   ],
   "source": [
    "consensus, mean = runmodel(1, 1, 100, .5)"
   ]
  },
  {
   "cell_type": "markdown",
   "id": "81d487f4-770a-4756-bf29-e72824a27387",
   "metadata": {},
   "source": [
    "-------------------------------------------------------------------------------"
   ]
  },
  {
   "cell_type": "code",
   "execution_count": 95,
   "id": "496b0ec4-9bc5-4965-bfb5-75a8bab997e2",
   "metadata": {},
   "outputs": [],
   "source": [
    "def model0b(C, d, p, n):\n",
    "\n",
    "    connections = (C[n] != 0).sum() - 1 # Obtain the number of connections\n",
    "                                        # made to the nth node        \n",
    "                                        \n",
    "    #print('There are', connections, 'nodes connected to prime node', n)\n",
    "                                        \n",
    "    # Python lists are mutable, so we need to make copies to avoid changing original lists\n",
    "    \n",
    "    d1 = d.copy()\n",
    "    p1 = p.copy()\n",
    "                                        \n",
    "    # If there are no connections to the prime node n, abort\n",
    "    \n",
    "    if connections == 0:\n",
    "        \n",
    "        #print('There are no connections to this node!')\n",
    "        \n",
    "        return d, p\n",
    "    \n",
    "    # Calculate how much persuasion will be sent to connections\n",
    "\n",
    "    flow = np.sign(d1.flat[n]) * (p1.flat[n] / connections) # Per Model 0, divide \n",
    "                                 # the persuasion power by the # of connections\n",
    "                                 # to the persuader. Multiply by the sign (so, flow gets negative values if neg opinion)\n",
    "                                 \n",
    "    #print('Our prime node has', p1.flat[n], 'persuasion to send. It will give', flow, 'to each node.')\n",
    "    \n",
    "    # For every node, if there is a connection to the prime node BUT\n",
    "    # that node isn't the prime node itself, send flow amount to that node\n",
    "    # and expend it from the prime node's persuasion\n",
    "    \n",
    "    for i in range(len(C)):\n",
    "        \n",
    "        if i != n and C[n, i] != 0:\n",
    "            \n",
    "            #print('Prime node', n, 'sending', flow, 'to node', i, 'which has', d1.flat[i], 'belief.')\n",
    "\n",
    "            d1.flat[i] += flow\n",
    "            p1.flat[n] -= abs(flow)\n",
    "            \n",
    "            #print('Node', i, 'now has', d1.flat[i], 'belief.')\n",
    "\n",
    "    #p1.flat[n] += 1\n",
    "    #print('Node', n, 'has', p1.flat[n], 'persuasion.')\n",
    "\n",
    "        \n",
    "    return d1, p1"
   ]
  },
  {
   "cell_type": "code",
   "execution_count": 96,
   "id": "cf0fd29c-30f8-4ed6-9123-4519563fff36",
   "metadata": {},
   "outputs": [],
   "source": [
    "def model1b(C, d, p, n):\n",
    "\n",
    "    #connections = (C[n] == -1) # Obtain the number of disagree connections\n",
    "                                 # made to the nth node    \n",
    "\n",
    "    connections = (C[n] == -1)[np.where(d.flat != 0)].sum() # Obtain the number of disagree connections\n",
    "                                     # made to the nth node\n",
    "                      # for above: if it's a disagreement where the corresponding d node isn't a 0\n",
    "                      \n",
    "    # Python lists are mutable, so we need to make copies to avoid changing original lists\n",
    "    \n",
    "    d1 = d.copy()\n",
    "    p1 = p.copy()         \n",
    "                      \n",
    "    # If there are no non-zero neighbors, just stop\n",
    "    \n",
    "    if connections == 0:\n",
    "        \n",
    "        return d, p\n",
    "\n",
    "    flow = np.sign(d1.flat[n]) * (p1.flat[n] / connections) # Per Model 1, divide \n",
    "                                 # the persuasion power by the # of connections\n",
    "                                 # to the persuader with opposite belief.\n",
    "    #print('flow is', flow, 'from node', n)\n",
    "\n",
    "    \n",
    "    for i in range(len(C)):\n",
    "        \n",
    "        # If the node I'm connected to isn't me, is an adversarial connection, and isn't at 0 belief... flow to it\n",
    "        if i != n and C[n, i] == -1 and d1.flat[i] != 0:\n",
    "            \n",
    "            d1.flat[i] += flow\n",
    "            p1.flat[n] -= abs(flow)\n",
    "\n",
    "    #p1.flat[n] += 1\n",
    "            \n",
    "\n",
    "            \n",
    "\n",
    "        \n",
    "    return d1, p1\n"
   ]
  },
  {
   "cell_type": "code",
   "execution_count": 97,
   "id": "282cae4b-fe77-4767-875c-69a372650579",
   "metadata": {},
   "outputs": [],
   "source": [
    "def model2b(C, d, p, k, j, n):\n",
    "\n",
    "    #connections = (C[n] == -1) # Obtain the number of disagree connections\n",
    "                                 # made to the nth node    \n",
    "\n",
    "    connections = (C[n] == -1)[np.where(d.flat != 0)].sum() # Obtain the number of disagree connections\n",
    "                                     # made to the nth node\n",
    "                      # for above: if it's a disagreement where the corresponding d node isn't a 0\n",
    "                      \n",
    "    # Python lists are mutable, so we need to make copies to avoid changing original lists\n",
    "    \n",
    "    d1 = d.copy()\n",
    "    p1 = p.copy()         \n",
    "                      \n",
    "    # If there are no non-zero neighbors, just stop\n",
    "    \n",
    "    # print('# of connections is', connections)\n",
    "    if connections == 0:\n",
    "        \n",
    "        return d, p\n",
    "\n",
    "    flow = np.sign(d1.flat[n]) * (p1.flat[n] / connections) /  (k-j+1) # Per Model 2, divide \n",
    "                                 # the persuasion power by the # of connections\n",
    "                                 # to the persuader with opposite belief. Divided by the rounds remaining.\n",
    "    #print('flow is', flow, 'from node', n)\n",
    "\n",
    "    \n",
    "    for i in range(len(C)):\n",
    "        \n",
    "        # If the node I'm connected to isn't me, is an adversarial connection, and isn't at 0 belief... flow to it\n",
    "        if i != n and C[n, i] == -1 and d1.flat[i] != 0:\n",
    "            \n",
    "            #print('Node', n, 'sending', flow, 'persuasion to node', i)\n",
    "            \n",
    "            d1.flat[i] += flow\n",
    "            p1.flat[n] -= abs(flow)\n",
    "            \n",
    "        \n",
    "    return d1, p1\n"
   ]
  },
  {
   "cell_type": "code",
   "execution_count": 143,
   "id": "9b8c9809-b6c6-4087-bdb6-e28b23c001e7",
   "metadata": {},
   "outputs": [],
   "source": [
    "def runagents(d, C, p, t, model, N, j, k):\n",
    "    \n",
    "    grand_d = d.copy() #np.zeros(np.shape(d))\n",
    "    \n",
    "    for i in range(N):\n",
    "\n",
    "        if model == 0 and t[i] == j:\n",
    "\n",
    "            d1, p = model0b(C, d, p, i)\n",
    "            \n",
    "\n",
    "        elif model == 1 and t[i] == j:\n",
    "\n",
    "            d1, p = model1b(C, d, p, i)\n",
    "\n",
    "        elif model == 2:\n",
    "            d1, p = model2b(C, d, p, k, j, i)\n",
    "        \n",
    "        # d1 - d is the change between the result of this node's action and the original state\n",
    "\n",
    "        else:\n",
    "            d1 = d\n",
    "\n",
    "        grand_d = grand_d + d1 - d\n",
    "        C1 = computeC(grand_d, np.transpose(np.where(C == 0)), 0, 0)\n",
    "        \n",
    "        #print(len(grand_d[grand_d > 0]))\n",
    "        \n",
    "\n",
    "    return C1, grand_d, p"
   ]
  },
  {
   "cell_type": "code",
   "execution_count": 144,
   "id": "3209243d-64d5-4c9d-adcd-0209ab004b79",
   "metadata": {},
   "outputs": [],
   "source": [
    "def runsystems(N, ratio, model, k):\n",
    "\n",
    "    d = generateBelief(N, 6, ratio)\n",
    "    C = computeC(d, [], .3, .3)\n",
    "    p = generatePersuasion(N, 6)\n",
    "\n",
    "    t = random.choices(range(1, k+1), k = N)\n",
    "\n",
    "    for j in range(1,k+1):\n",
    "        C, d, p = runagents(d, C, p, t, model, N, j, k)\n",
    "        \n",
    "\n",
    "    return C, d, p"
   ]
  },
  {
   "cell_type": "code",
   "execution_count": 120,
   "id": "b139018f-b715-4e91-853f-0e206ad86c4d",
   "metadata": {},
   "outputs": [],
   "source": [
    "C, d, p = runsystems(100, .5, 0, 3)"
   ]
  },
  {
   "cell_type": "code",
   "execution_count": null,
   "id": "de269f37",
   "metadata": {
    "scrolled": true
   },
   "outputs": [],
   "source": []
  },
  {
   "cell_type": "code",
   "execution_count": 129,
   "id": "9419da94-adf0-4303-9662-ecf4e94a0233",
   "metadata": {},
   "outputs": [],
   "source": [
    "def replicate(N, ratio, model, k, runs):\n",
    "\n",
    "    total_consensus = 0\n",
    "\n",
    "    for r in range(runs):\n",
    "\n",
    "        C, d, p = runsystems(N, ratio, model, k)\n",
    "\n",
    "        consensus = max(1 - (len(d[d > 0]) / N), (len(d[d > 0]) / N))\n",
    "\n",
    "        total_consensus += consensus\n",
    "    \n",
    "    avg_consensus = total_consensus / runs\n",
    "    \n",
    "    return avg_consensus"
   ]
  },
  {
   "cell_type": "code",
   "execution_count": null,
   "id": "ef24dd9d",
   "metadata": {},
   "outputs": [],
   "source": []
  },
  {
   "cell_type": "code",
   "execution_count": 130,
   "id": "c303dc57-a6ed-49b2-a5ec-562b428690fa",
   "metadata": {
    "scrolled": true
   },
   "outputs": [
    {
     "name": "stdout",
     "output_type": "stream",
     "text": [
      "0.514\n"
     ]
    }
   ],
   "source": [
    "print(replicate(100, .5, 0, 3, 10))"
   ]
  },
  {
   "cell_type": "markdown",
   "id": "cdcec74e",
   "metadata": {},
   "source": []
  },
  {
   "cell_type": "code",
   "execution_count": null,
   "id": "a941ca69-3b3d-4b68-9770-50457731f903",
   "metadata": {},
   "outputs": [],
   "source": [
    "print(replicate(100, .6, 0, 3, 10))"
   ]
  },
  {
   "cell_type": "code",
   "execution_count": null,
   "id": "488396f7-ea06-478c-a9da-7524880ec6c4",
   "metadata": {},
   "outputs": [],
   "source": [
    "print(replicate(100, .7, 0, 3, 10))"
   ]
  },
  {
   "cell_type": "code",
   "execution_count": 44,
   "id": "88449a99-d0c8-444a-842f-fcce2d9181d4",
   "metadata": {},
   "outputs": [
    {
     "name": "stdout",
     "output_type": "stream",
     "text": [
      "0.858\n"
     ]
    }
   ],
   "source": [
    "print(replicate(100, .8, 0, 3, 10))"
   ]
  },
  {
   "cell_type": "code",
   "execution_count": 45,
   "id": "bd5b955d-81c4-428d-b02d-eeb2fff447cf",
   "metadata": {},
   "outputs": [
    {
     "name": "stdout",
     "output_type": "stream",
     "text": [
      "0.931\n"
     ]
    }
   ],
   "source": [
    "print(replicate(100, .9, 0, 3, 10))"
   ]
  },
  {
   "cell_type": "code",
   "execution_count": 46,
   "id": "996eb71d-9fef-480d-a420-62f0cabe773a",
   "metadata": {},
   "outputs": [
    {
     "name": "stdout",
     "output_type": "stream",
     "text": [
      "0.54\n",
      "0.8909999999999998\n",
      "0.999\n",
      "1.0\n",
      "1.0\n"
     ]
    }
   ],
   "source": [
    "print(replicate(100, .5, 1, 3, 10))\n",
    "print(replicate(100, .6, 1, 3, 10))\n",
    "print(replicate(100, .7, 1, 3, 10))\n",
    "print(replicate(100, .8, 1, 3, 10))\n",
    "print(replicate(100, .9, 1, 3, 10))"
   ]
  },
  {
   "cell_type": "code",
   "execution_count": 52,
   "id": "fad5a7f0-eb0b-48fe-81a9-93b9f4e13906",
   "metadata": {},
   "outputs": [
    {
     "name": "stdout",
     "output_type": "stream",
     "text": [
      "0.5\n",
      "0.5999999999999999\n",
      "0.6999999999999997\n",
      "0.8000000000000002\n",
      "0.9005000000000001\n"
     ]
    }
   ],
   "source": [
    "print(replicate(100, .5, 2, 3, 20))\n",
    "print(replicate(100, .6, 2, 3, 20))\n",
    "print(replicate(100, .7, 2, 3, 20))\n",
    "print(replicate(100, .8, 2, 3, 20))\n",
    "print(replicate(100, .9, 2, 3, 20))"
   ]
  },
  {
   "cell_type": "code",
   "execution_count": 181,
   "id": "88948894",
   "metadata": {
    "scrolled": false
   },
   "outputs": [
    {
     "name": "stdout",
     "output_type": "stream",
     "text": [
      "done with model 0 for 0.5\n",
      "done with model 1 for 0.5\n",
      "done with model 2 for 0.5\n",
      "done with model 0 for 0.6\n",
      "done with model 1 for 0.6\n",
      "done with model 2 for 0.6\n",
      "done with model 0 for 0.7\n",
      "done with model 1 for 0.7\n",
      "done with model 2 for 0.7\n",
      "done with model 0 for 0.8\n",
      "done with model 1 for 0.8\n",
      "done with model 2 for 0.8\n"
     ]
    }
   ],
   "source": [
    "df1 = pd.DataFrame(columns=['Initial', 'Consensus', 'Model'])\n",
    "\n",
    "for a in range(5, 9):\n",
    "    \n",
    "    for m in range(0, 3):\n",
    "    \n",
    "        df1.loc[len(df1)] = [a/10, replicate(16, a/10, m, 3, 10), m]\n",
    "        print('done with model', m, 'for', a/10)"
   ]
  },
  {
   "cell_type": "code",
   "execution_count": 182,
   "id": "2b0b22f8",
   "metadata": {},
   "outputs": [
    {
     "name": "stdout",
     "output_type": "stream",
     "text": [
      "    Initial  Consensus  Model\n",
      "0       0.5    0.52500    0.0\n",
      "1       0.5    0.70000    1.0\n",
      "2       0.5    0.64375    2.0\n",
      "3       0.6    0.69375    0.0\n",
      "4       0.6    0.77500    1.0\n",
      "5       0.6    0.77500    2.0\n",
      "6       0.7    0.74375    0.0\n",
      "7       0.7    0.92500    1.0\n",
      "8       0.7    0.92500    2.0\n",
      "9       0.8    0.89375    0.0\n",
      "10      0.8    0.95000    1.0\n",
      "11      0.8    0.96875    2.0\n"
     ]
    }
   ],
   "source": [
    "print(df1)"
   ]
  },
  {
   "cell_type": "code",
   "execution_count": 183,
   "id": "349762f0",
   "metadata": {},
   "outputs": [
    {
     "data": {
      "text/plain": [
       "<Axes: xlabel='Initial'>"
      ]
     },
     "execution_count": 183,
     "metadata": {},
     "output_type": "execute_result"
    },
    {
     "data": {
      "image/png": "[encoded data removed]",
      "text/plain": [
       "<Figure size 432x288 with 1 Axes>"
      ]
     },
     "metadata": {
      "needs_background": "light"
     },
     "output_type": "display_data"
    }
   ],
   "source": [
    "df1[df1['Model'] == 0].plot.bar('Initial', 'Consensus')"
   ]
  },
  {
   "cell_type": "code",
   "execution_count": 184,
   "id": "a705d450",
   "metadata": {},
   "outputs": [
    {
     "data": {
      "text/plain": [
       "<Axes: xlabel='Initial'>"
      ]
     },
     "execution_count": 184,
     "metadata": {},
     "output_type": "execute_result"
    },
    {
     "data": {
      "image/png": "[encoded data removed]",
      "text/plain": [
       "<Figure size 432x288 with 1 Axes>"
      ]
     },
     "metadata": {
      "needs_background": "light"
     },
     "output_type": "display_data"
    }
   ],
   "source": [
    "df1[df1['Model'] == 1].plot.bar('Initial', 'Consensus')"
   ]
  },
  {
   "cell_type": "code",
   "execution_count": 185,
   "id": "a72cca4c",
   "metadata": {},
   "outputs": [
    {
     "data": {
      "text/plain": [
       "<Axes: xlabel='Initial'>"
      ]
     },
     "execution_count": 185,
     "metadata": {},
     "output_type": "execute_result"
    },
    {
     "data": {
      "image/png": "[encoded data removed]",
      "text/plain": [
       "<Figure size 432x288 with 1 Axes>"
      ]
     },
     "metadata": {
      "needs_background": "light"
     },
     "output_type": "display_data"
    }
   ],
   "source": [
    "df1[df1['Model'] == 2].plot.bar('Initial', 'Consensus')"
   ]
  },
  {
   "cell_type": "markdown",
   "id": "024e85c8-7a02-4c48-bf94-24e5718ca0d6",
   "metadata": {},
   "source": [
    "NOTE: if a node is taken out (belief set to 0), it will slowly regenerate persuasion. So it spends, regenerates 1. Then it gets set to 0, doesn't spend, regenerates 1. Now it's (0,2) but can be convinced as (1, 2) and start persuading. But if a node is merely unconnected, it doesn't have passive persuasion income. Good or bad?"
   ]
  },
  {
   "cell_type": "code",
   "execution_count": null,
   "id": "4aa910d0",
   "metadata": {},
   "outputs": [],
   "source": []
  },
  {
   "cell_type": "code",
   "execution_count": null,
   "id": "b839987a",
   "metadata": {},
   "outputs": [],
   "source": []
  },
  {
   "cell_type": "code",
   "execution_count": 176,
   "id": "50c687ae",
   "metadata": {},
   "outputs": [],
   "source": [
    "def runagents2(d, C, p, t, N, j, k, major, minor):\n",
    "    \n",
    "    grand_d = d.copy() #np.zeros(np.shape(d))\n",
    "    \n",
    "    if len(d[d > 0]) > len(d[d < 0]):\n",
    "        \n",
    "        majority = 1\n",
    "        \n",
    "\n",
    "    else:\n",
    "        \n",
    "        majority = -1\n",
    "    \n",
    "    for i in range(N):\n",
    "        \n",
    "        if np.sign(d.flat[i]) == majority:\n",
    "            \n",
    "            model = major\n",
    "            \n",
    "\n",
    "        else:\n",
    "            \n",
    "            model = minor\n",
    "                \n",
    "\n",
    "        if model == 0 and t[i] == j:\n",
    "\n",
    "            d1, p = model0b(C, d, p, i)\n",
    "            \n",
    "\n",
    "        elif model == 1 and t[i] == j:\n",
    "\n",
    "            d1, p = model1b(C, d, p, i)\n",
    "\n",
    "        elif model == 2:\n",
    "            d1, p = model2b(C, d, p, k, j, i)\n",
    "        \n",
    "        # d1 - d is the change between the result of this node's action and the original state\n",
    "\n",
    "        else:\n",
    "            d1 = d\n",
    "\n",
    "        grand_d = grand_d + d1 - d\n",
    "        C1 = computeC(grand_d, np.transpose(np.where(C == 0)), 0, 0)\n",
    "        \n",
    "        #print(len(grand_d[grand_d > 0]))\n",
    "        \n",
    "\n",
    "    return C1, grand_d, p"
   ]
  },
  {
   "cell_type": "code",
   "execution_count": 177,
   "id": "21d05c87",
   "metadata": {},
   "outputs": [],
   "source": [
    "def runsystems2(N, ratio, major, minor, k):\n",
    "\n",
    "    d = generateBelief(N, 6, ratio)\n",
    "    C = computeC(d, [], .3, .3)\n",
    "    p = generatePersuasion(N, 6)\n",
    "\n",
    "    t = random.choices(range(1, k+1), k = N)\n",
    "\n",
    "    for j in range(1,k+1):\n",
    "        C, d, p = runagents2(d, C, p, t, N, j, k, major, minor)\n",
    "        \n",
    "\n",
    "    return C, d, p"
   ]
  },
  {
   "cell_type": "code",
   "execution_count": 178,
   "id": "b176641c",
   "metadata": {},
   "outputs": [],
   "source": [
    "def replicate2(N, ratio, major, minor, k, runs):\n",
    "\n",
    "    total_consensus = 0\n",
    "\n",
    "    for r in range(runs):\n",
    "\n",
    "        C, d, p = runsystems2(N, ratio, major, minor, k)\n",
    "\n",
    "        consensus = max(1 - (len(d[d > 0]) / N), (len(d[d > 0]) / N))\n",
    "\n",
    "        total_consensus += consensus\n",
    "    \n",
    "    avg_consensus = total_consensus / runs\n",
    "    \n",
    "    return avg_consensus"
   ]
  },
  {
   "cell_type": "code",
   "execution_count": 179,
   "id": "a86ce0ad",
   "metadata": {},
   "outputs": [
    {
     "name": "stdout",
     "output_type": "stream",
     "text": [
      "0.6875\n"
     ]
    }
   ],
   "source": [
    "print(replicate2(16, .5, 0, 1, 3, 1))"
   ]
  },
  {
   "cell_type": "code",
   "execution_count": 195,
   "id": "7b42ca30",
   "metadata": {},
   "outputs": [
    {
     "name": "stdout",
     "output_type": "stream",
     "text": [
      "done with model 0 in majority and model 0 in minority 0.5\n",
      "done with model 0 in majority and model 1 in minority 0.5\n",
      "done with model 0 in majority and model 2 in minority 0.5\n",
      "done with model 1 in majority and model 0 in minority 0.5\n",
      "done with model 1 in majority and model 1 in minority 0.5\n",
      "done with model 1 in majority and model 2 in minority 0.5\n",
      "done with model 2 in majority and model 0 in minority 0.5\n",
      "done with model 2 in majority and model 1 in minority 0.5\n",
      "done with model 2 in majority and model 2 in minority 0.5\n",
      "done with model 0 in majority and model 0 in minority 0.6\n",
      "done with model 0 in majority and model 1 in minority 0.6\n",
      "done with model 0 in majority and model 2 in minority 0.6\n",
      "done with model 1 in majority and model 0 in minority 0.6\n",
      "done with model 1 in majority and model 1 in minority 0.6\n",
      "done with model 1 in majority and model 2 in minority 0.6\n",
      "done with model 2 in majority and model 0 in minority 0.6\n",
      "done with model 2 in majority and model 1 in minority 0.6\n",
      "done with model 2 in majority and model 2 in minority 0.6\n",
      "done with model 0 in majority and model 0 in minority 0.7\n",
      "done with model 0 in majority and model 1 in minority 0.7\n",
      "done with model 0 in majority and model 2 in minority 0.7\n",
      "done with model 1 in majority and model 0 in minority 0.7\n",
      "done with model 1 in majority and model 1 in minority 0.7\n",
      "done with model 1 in majority and model 2 in minority 0.7\n",
      "done with model 2 in majority and model 0 in minority 0.7\n",
      "done with model 2 in majority and model 1 in minority 0.7\n",
      "done with model 2 in majority and model 2 in minority 0.7\n",
      "done with model 0 in majority and model 0 in minority 0.8\n",
      "done with model 0 in majority and model 1 in minority 0.8\n",
      "done with model 0 in majority and model 2 in minority 0.8\n",
      "done with model 1 in majority and model 0 in minority 0.8\n",
      "done with model 1 in majority and model 1 in minority 0.8\n",
      "done with model 1 in majority and model 2 in minority 0.8\n",
      "done with model 2 in majority and model 0 in minority 0.8\n",
      "done with model 2 in majority and model 1 in minority 0.8\n",
      "done with model 2 in majority and model 2 in minority 0.8\n"
     ]
    }
   ],
   "source": [
    "df1 = pd.DataFrame(columns=['Initial', 'Consensus', 'Majority', 'Minority'])\n",
    "\n",
    "for a in range(5, 9):\n",
    "    \n",
    "    for major in range(0, 3):\n",
    "        \n",
    "        for minor in range(0, 3):\n",
    "\n",
    "            df1.loc[len(df1)] = [a/10, replicate2(16, a/10, major, minor, 3, 10), major, minor]\n",
    "            print('done with model', major, 'in majority', 'and model', minor, 'in minority', a/10)"
   ]
  },
  {
   "cell_type": "code",
   "execution_count": 196,
   "id": "55755d65",
   "metadata": {},
   "outputs": [
    {
     "data": {
      "text/plain": [
       "<Axes: xlabel='Initial'>"
      ]
     },
     "execution_count": 196,
     "metadata": {},
     "output_type": "execute_result"
    },
    {
     "data": {
      "image/png": "[encoded data removed]",
      "text/plain": [
       "<Figure size 432x288 with 1 Axes>"
      ]
     },
     "metadata": {
      "needs_background": "light"
     },
     "output_type": "display_data"
    }
   ],
   "source": [
    "df1[(df1['Majority'] == 0) & (df1['Minority'] == 1)].plot.bar('Initial', 'Consensus')"
   ]
  },
  {
   "cell_type": "code",
   "execution_count": 197,
   "id": "d646e1a4",
   "metadata": {},
   "outputs": [
    {
     "data": {
      "text/plain": [
       "<Axes: xlabel='Initial'>"
      ]
     },
     "execution_count": 197,
     "metadata": {},
     "output_type": "execute_result"
    },
    {
     "data": {
      "image/png": "[encoded data removed]",
      "text/plain": [
       "<Figure size 432x288 with 1 Axes>"
      ]
     },
     "metadata": {
      "needs_background": "light"
     },
     "output_type": "display_data"
    }
   ],
   "source": [
    "df1[(df1['Majority'] == 1) & (df1['Minority'] == 0)].plot.bar('Initial', 'Consensus')"
   ]
  },
  {
   "cell_type": "code",
   "execution_count": 198,
   "id": "c1cae844",
   "metadata": {},
   "outputs": [
    {
     "data": {
      "text/plain": [
       "<Axes: xlabel='Initial'>"
      ]
     },
     "execution_count": 198,
     "metadata": {},
     "output_type": "execute_result"
    },
    {
     "data": {
      "image/png": "[encoded data removed]",
      "text/plain": [
       "<Figure size 432x288 with 1 Axes>"
      ]
     },
     "metadata": {
      "needs_background": "light"
     },
     "output_type": "display_data"
    }
   ],
   "source": [
    "df1[(df1['Majority'] == 0) & (df1['Minority'] == 2)].plot.bar('Initial', 'Consensus')"
   ]
  },
  {
   "cell_type": "code",
   "execution_count": 199,
   "id": "9bae7c4f",
   "metadata": {},
   "outputs": [
    {
     "data": {
      "text/plain": [
       "<Axes: xlabel='Initial'>"
      ]
     },
     "execution_count": 199,
     "metadata": {},
     "output_type": "execute_result"
    },
    {
     "data": {
      "image/png": "[encoded data removed]",
      "text/plain": [
       "<Figure size 432x288 with 1 Axes>"
      ]
     },
     "metadata": {
      "needs_background": "light"
     },
     "output_type": "display_data"
    }
   ],
   "source": [
    "df1[(df1['Majority'] == 2) & (df1['Minority'] == 0)].plot.bar('Initial', 'Consensus')"
   ]
  },
  {
   "cell_type": "code",
   "execution_count": 200,
   "id": "54c2cc42",
   "metadata": {},
   "outputs": [
    {
     "data": {
      "text/plain": [
       "<Axes: xlabel='Initial'>"
      ]
     },
     "execution_count": 200,
     "metadata": {},
     "output_type": "execute_result"
    },
    {
     "data": {
      "image/png": "[encoded data removed]",
      "text/plain": [
       "<Figure size 432x288 with 1 Axes>"
      ]
     },
     "metadata": {
      "needs_background": "light"
     },
     "output_type": "display_data"
    }
   ],
   "source": [
    "df1[(df1['Majority'] == 2) & (df1['Minority'] == 1)].plot.bar('Initial', 'Consensus')"
   ]
  },
  {
   "cell_type": "code",
   "execution_count": null,
   "id": "34c47194",
   "metadata": {},
   "outputs": [],
   "source": [
    "def runagents3(d, C, p, t, N, j, k, positive, negative):\n",
    "    \n",
    "    grand_d = d.copy() #np.zeros(np.shape(d))\n",
    "    \n",
    "    for i in range(N):\n",
    "        \n",
    "        if np.sign(d.flat[i]) == 1:\n",
    "            \n",
    "            model = positive\n",
    "            \n",
    "        else:\n",
    "            \n",
    "            model = negative\n",
    "            \n",
    "\n",
    "        if model == 0 and t[i] == j:\n",
    "\n",
    "            d1, p = model0b(C, d, p, i)\n",
    "            \n",
    "\n",
    "        elif model == 1 and t[i] == j:\n",
    "\n",
    "            d1, p = model1b(C, d, p, i)\n",
    "\n",
    "        elif model == 2:\n",
    "            d1, p = model2b(C, d, p, k, j, i)\n",
    "        \n",
    "        # d1 - d is the change between the result of this node's action and the original state\n",
    "\n",
    "        else:\n",
    "            d1 = d\n",
    "\n",
    "        grand_d = grand_d + d1 - d\n",
    "        C1 = computeC(grand_d, np.transpose(np.where(C == 0)), 0, 0)\n",
    "        \n",
    "        #print(len(grand_d[grand_d > 0]))\n",
    "        \n",
    "\n",
    "    return C1, grand_d, p\n",
    "\n",
    "def runsystems3(N, ratio, positive, negative, k):\n",
    "\n",
    "    d = generateBelief(N, 6, ratio)\n",
    "    C = computeC(d, [], .3, .3)\n",
    "    p = generatePersuasion(N, 6)\n",
    "\n",
    "    t = random.choices(range(1, k+1), k = N)\n",
    "\n",
    "    for j in range(1,k+1):\n",
    "        C, d, p = runagents3(d, C, p, t, N, j, k, major, minor)\n",
    "        \n",
    "\n",
    "    return C, d, p\n",
    "\n",
    "def replicate3(N, ratio, positive, negative, k, runs):\n",
    "\n",
    "    total_consensus = 0\n",
    "\n",
    "    for r in range(runs):\n",
    "\n",
    "        C, d, p = runsystems3(N, ratio, major, minor, k)\n",
    "\n",
    "        consensus = max(1 - (len(d[d > 0]) / N), (len(d[d > 0]) / N))\n",
    "\n",
    "        total_consensus += consensus\n",
    "    \n",
    "    avg_consensus = total_consensus / runs\n",
    "    \n",
    "    return avg_consensus\n",
    "\n"
   ]
  },
  {
   "cell_type": "code",
   "execution_count": 190,
   "id": "aef8f725",
   "metadata": {},
   "outputs": [
    {
     "name": "stdout",
     "output_type": "stream",
     "text": [
      "done with model 0 for positives and model 0 for negatives 0.5\n",
      "done with model 0 for positives and model 1 for negatives 0.5\n",
      "done with model 0 for positives and model 2 for negatives 0.5\n",
      "done with model 1 for positives and model 0 for negatives 0.5\n",
      "done with model 1 for positives and model 1 for negatives 0.5\n",
      "done with model 1 for positives and model 2 for negatives 0.5\n",
      "done with model 2 for positives and model 0 for negatives 0.5\n",
      "done with model 2 for positives and model 1 for negatives 0.5\n",
      "done with model 2 for positives and model 2 for negatives 0.5\n",
      "done with model 0 for positives and model 0 for negatives 0.6\n",
      "done with model 0 for positives and model 1 for negatives 0.6\n",
      "done with model 0 for positives and model 2 for negatives 0.6\n",
      "done with model 1 for positives and model 0 for negatives 0.6\n",
      "done with model 1 for positives and model 1 for negatives 0.6\n",
      "done with model 1 for positives and model 2 for negatives 0.6\n",
      "done with model 2 for positives and model 0 for negatives 0.6\n",
      "done with model 2 for positives and model 1 for negatives 0.6\n",
      "done with model 2 for positives and model 2 for negatives 0.6\n",
      "done with model 0 for positives and model 0 for negatives 0.7\n",
      "done with model 0 for positives and model 1 for negatives 0.7\n",
      "done with model 0 for positives and model 2 for negatives 0.7\n",
      "done with model 1 for positives and model 0 for negatives 0.7\n",
      "done with model 1 for positives and model 1 for negatives 0.7\n",
      "done with model 1 for positives and model 2 for negatives 0.7\n",
      "done with model 2 for positives and model 0 for negatives 0.7\n",
      "done with model 2 for positives and model 1 for negatives 0.7\n",
      "done with model 2 for positives and model 2 for negatives 0.7\n",
      "done with model 0 for positives and model 0 for negatives 0.8\n",
      "done with model 0 for positives and model 1 for negatives 0.8\n",
      "done with model 0 for positives and model 2 for negatives 0.8\n",
      "done with model 1 for positives and model 0 for negatives 0.8\n",
      "done with model 1 for positives and model 1 for negatives 0.8\n",
      "done with model 1 for positives and model 2 for negatives 0.8\n",
      "done with model 2 for positives and model 0 for negatives 0.8\n",
      "done with model 2 for positives and model 1 for negatives 0.8\n",
      "done with model 2 for positives and model 2 for negatives 0.8\n"
     ]
    }
   ],
   "source": [
    "df1 = pd.DataFrame(columns=['Initial', 'Consensus', 'Positive', 'Negative'])\n",
    "\n",
    "for a in range(5, 9):\n",
    "    \n",
    "    for positive in range(0, 3):\n",
    "        \n",
    "        for negative in range(0, 3):\n",
    "\n",
    "            df1.loc[len(df1)] = [a/10, replicate3(16, a/10, positive, negative, 3, 10), positive, negative]\n",
    "            print('done with model', positive, 'for positives and model', negative, 'for negatives', a/10)"
   ]
  },
  {
   "cell_type": "code",
   "execution_count": 192,
   "id": "dffa0adf",
   "metadata": {},
   "outputs": [
    {
     "data": {
      "text/plain": [
       "<Axes: xlabel='Initial'>"
      ]
     },
     "execution_count": 192,
     "metadata": {},
     "output_type": "execute_result"
    },
    {
     "data": {
      "image/png": "[encoded data removed]",
      "text/plain": [
       "<Figure size 432x288 with 1 Axes>"
      ]
     },
     "metadata": {
      "needs_background": "light"
     },
     "output_type": "display_data"
    },
    {
     "data": {
      "image/png": "[encoded data removed]",
      "text/plain": [
       "<Figure size 432x288 with 1 Axes>"
      ]
     },
     "metadata": {
      "needs_background": "light"
     },
     "output_type": "display_data"
    },
    {
     "data": {
      "image/png": "[encoded data removed]",
      "text/plain": [
       "<Figure size 432x288 with 1 Axes>"
      ]
     },
     "metadata": {
      "needs_background": "light"
     },
     "output_type": "display_data"
    },
    {
     "data": {
      "image/png": "[encoded data removed]",
      "text/plain": [
       "<Figure size 432x288 with 1 Axes>"
      ]
     },
     "metadata": {
      "needs_background": "light"
     },
     "output_type": "display_data"
    },
    {
     "data": {
      "image/png": "[encoded data removed]",
      "text/plain": [
       "<Figure size 432x288 with 1 Axes>"
      ]
     },
     "metadata": {
      "needs_background": "light"
     },
     "output_type": "display_data"
    },
    {
     "data": {
      "image/png": "[encoded data removed]",
      "text/plain": [
       "<Figure size 432x288 with 1 Axes>"
      ]
     },
     "metadata": {
      "needs_background": "light"
     },
     "output_type": "display_data"
    }
   ],
   "source": [
    "df1[(df1['Positive'] == 0) & (df1['Negative'] == 1)].plot.bar('Initial', 'Consensus')\n",
    "df1[(df1['Positive'] == 1) & (df1['Negative'] == 0)].plot.bar('Initial', 'Consensus')\n",
    "df1[(df1['Positive'] == 0) & (df1['Negative'] == 2)].plot.bar('Initial', 'Consensus')\n",
    "df1[(df1['Positive'] == 2) & (df1['Negative'] == 0)].plot.bar('Initial', 'Consensus')\n",
    "df1[(df1['Positive'] == 1) & (df1['Negative'] == 2)].plot.bar('Initial', 'Consensus')\n",
    "df1[(df1['Positive'] == 2) & (df1['Negative'] == 1)].plot.bar('Initial', 'Consensus')"
   ]
  },
  {
   "cell_type": "markdown",
   "id": "dce50607-c82c-4f64-adf9-e97e6057e2d1",
   "metadata": {},
   "source": [
    "The next step for the model is to have things run iteratively over k rounds. Right now, nodes act according to their neighbors. These actions change the belief of neighbors, which should change how those neighbors act in the next round."
   ]
  },
  {
   "cell_type": "markdown",
   "id": "00515335-896f-4e87-81c0-70f8019ccbde",
   "metadata": {},
   "source": [
    "Model 2 is the same as Model 1, except that it sends p/k persuasion. This makes Model 2 more \"intelligent\" than Model 1, in that it understands that there will be a number of rounds and it plans accordingly.\n",
    "\n",
    "To run Model 2, we simply run Model 1 but with p/k instead of p persuasion."
   ]
  },
  {
   "cell_type": "markdown",
   "id": "0d9d2c80-9a6b-4da2-a1b1-a1e020ca2491",
   "metadata": {},
   "source": [
    "------------------------------------------------------------------------------------"
   ]
  },
  {
   "cell_type": "markdown",
   "id": "1d7f49a8-a623-45cd-bec7-ac2dbbc73811",
   "metadata": {},
   "source": [
    "This runs models asymmetrically based on their belief."
   ]
  },
  {
   "cell_type": "code",
   "execution_count": 31,
   "id": "5e4550de-199d-43b5-b09b-886d1c5ade0d",
   "metadata": {},
   "outputs": [],
   "source": [
    "def runmodel_a(model, runs, N, ratio):\n",
    "\n",
    "    total_consensus = 0\n",
    "    \n",
    "    for j in range(runs):\n",
    "    \n",
    "        d = generateBelief(N, 6, ratio)\n",
    "        C = computeC(d, [], .3, .3)\n",
    "        p = generatePersuasion(N, 6)\n",
    "        \n",
    "        grand_d = d.copy() #np.zeros(np.shape(d))\n",
    "        \n",
    "        for i in range(N):\n",
    "\n",
    "            if np.sign(d.flat[i]) == 1:\n",
    "\n",
    "                C1, d1, p1 = model0(C, d, p, i)\n",
    "                \n",
    "            else:\n",
    "\n",
    "                C1, d1, p1 = model1(C, d, p, i)\n",
    "            \n",
    "            # d1 - d is the change between the result of this node's action and the original state\n",
    "            \n",
    "            grand_d = grand_d + d1 - d\n",
    "            \n",
    "            #print(len(grand_d[grand_d > 0]))\n",
    "            \n",
    "        \n",
    "        consensus = 1 - (len(grand_d[grand_d > 0]) / N)\n",
    "        \n",
    "        print('Consensus ended up at', max(consensus, 1 - consensus), 'for run', j)\n",
    "\n",
    "        total_consensus += max(consensus, 1 - consensus)\n",
    "\n",
    "    avg_consensus = total_consensus / runs\n",
    "\n",
    "    print('Average consensus for model', model, 'over', runs, 'runs is', avg_consensus)\n",
    "\n",
    "    return max(consensus, 1 - consensus), avg_consensus"
   ]
  },
  {
   "cell_type": "code",
   "execution_count": 6,
   "id": "e6fd6023-9c6e-4220-af4f-efa7b8cefa96",
   "metadata": {},
   "outputs": [
    {
     "ename": "NameError",
     "evalue": "name 'runmodel_a' is not defined",
     "output_type": "error",
     "traceback": [
      "\u001b[1;31m---------------------------------------------------------------------------\u001b[0m",
      "\u001b[1;31mNameError\u001b[0m                                 Traceback (most recent call last)",
      "Cell \u001b[1;32mIn[6], line 1\u001b[0m\n\u001b[1;32m----> 1\u001b[0m consensus, mean \u001b[38;5;241m=\u001b[39m runmodel_a(\u001b[38;5;241m1\u001b[39m, \u001b[38;5;241m100\u001b[39m, \u001b[38;5;241m100\u001b[39m, \u001b[38;5;241m.5\u001b[39m)\n",
      "\u001b[1;31mNameError\u001b[0m: name 'runmodel_a' is not defined"
     ]
    }
   ],
   "source": [
    "consensus, mean = runmodel_a(1, 100, 100, .5)"
   ]
  }
 ],
 "metadata": {
  "kernelspec": {
   "display_name": "Python 3",
   "language": "python",
   "name": "python3"
  },
  "language_info": {
   "codemirror_mode": {
    "name": "ipython",
    "version": 3
   },
   "file_extension": ".py",
   "mimetype": "text/x-python",
   "name": "python",
   "nbconvert_exporter": "python",
   "pygments_lexer": "ipython3",
   "version": "3.8.8"
  }
 },
 "nbformat": 4,
 "nbformat_minor": 5
}
